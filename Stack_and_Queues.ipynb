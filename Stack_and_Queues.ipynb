{
  "nbformat": 4,
  "nbformat_minor": 0,
  "metadata": {
    "colab": {
      "provenance": [],
      "authorship_tag": "ABX9TyMbrff/QG6TjUE2rfTbgZre",
      "include_colab_link": true
    },
    "kernelspec": {
      "name": "python3",
      "display_name": "Python 3"
    },
    "language_info": {
      "name": "python"
    }
  },
  "cells": [
    {
      "cell_type": "markdown",
      "metadata": {
        "id": "view-in-github",
        "colab_type": "text"
      },
      "source": [
        "<a href=\"https://colab.research.google.com/github/AlessandroXavierOcasion/CPEN65-1/blob/main/Stack_and_Queues.ipynb\" target=\"_parent\"><img src=\"https://colab.research.google.com/assets/colab-badge.svg\" alt=\"Open In Colab\"/></a>"
      ]
    },
    {
      "cell_type": "code",
      "execution_count": 7,
      "metadata": {
        "colab": {
          "base_uri": "https://localhost:8080/"
        },
        "id": "gWoapJDM_CfI",
        "outputId": "eefed518-f12c-4735-b6e9-d377e30c3522"
      },
      "outputs": [
        {
          "output_type": "stream",
          "name": "stdout",
          "text": [
            "['A', 'B', 'C']\n",
            "['A']\n"
          ]
        }
      ],
      "source": [
        "class Stack:           #Last In First Out/LIFO\n",
        "  def __init__(self):\n",
        "    self.stack = []       #stack implement using OOP concepts\n",
        "\n",
        "  def push(self,dataval):\n",
        "    if dataval not in self.stack:\n",
        "      return self.stack.append(dataval)\n",
        "    else:\n",
        "      return False\n",
        "  def pop(self):\n",
        "    if len(self.stack)<=0:\n",
        "      return(\"No element in the stack\")\n",
        "    else:\n",
        "      return self.stack.pop()\n",
        "\n",
        "AStack = Stack()\n",
        "AStack.push(\"A\")\n",
        "AStack.push(\"B\")\n",
        "AStack.push(\"C\")\n",
        "print(AStack.stack)\n",
        "AStack.pop()\n",
        "AStack.pop()\n",
        "print(AStack.stack)"
      ]
    },
    {
      "cell_type": "code",
      "source": [
        "class Queue:\n",
        "  def __init__(self):\n",
        "    self.queue = []\n",
        "\n",
        "  def enqueue(self, data):\n",
        "    self.queue.append(data)\n",
        "\n",
        "  def dequeue(self):\n",
        "    if len(self.queue) == 0:\n",
        "      return \"No elements in the queue\"\n",
        "    return self.queue.pop(0)\n",
        "\n",
        "Aqueue = Queue()\n",
        "Aqueue.enqueue(\"A\")\n",
        "Aqueue.enqueue(\"B\")\n",
        "Aqueue.enqueue(\"C\")\n",
        "print(Aqueue.queue)\n",
        "Aqueue.dequeue()\n",
        "Aqueue.dequeue()\n",
        "print(Aqueue.queue)"
      ],
      "metadata": {
        "colab": {
          "base_uri": "https://localhost:8080/"
        },
        "id": "kdmVoPC_APSB",
        "outputId": "343aeac2-cd14-44f4-8d77-a4f92a608f31"
      },
      "execution_count": 6,
      "outputs": [
        {
          "output_type": "stream",
          "name": "stdout",
          "text": [
            "['A', 'B', 'C']\n",
            "['C']\n"
          ]
        }
      ]
    }
  ]
}