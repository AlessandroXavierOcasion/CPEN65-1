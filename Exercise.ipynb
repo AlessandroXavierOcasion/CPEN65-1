{
  "nbformat": 4,
  "nbformat_minor": 0,
  "metadata": {
    "colab": {
      "provenance": [],
      "authorship_tag": "ABX9TyPKorI5KTtzI8z8TEaW76x7",
      "include_colab_link": true
    },
    "kernelspec": {
      "name": "python3",
      "display_name": "Python 3"
    },
    "language_info": {
      "name": "python"
    }
  },
  "cells": [
    {
      "cell_type": "markdown",
      "metadata": {
        "id": "view-in-github",
        "colab_type": "text"
      },
      "source": [
        "<a href=\"https://colab.research.google.com/github/AlessandroXavierOcasion/CPEN65-1/blob/main/Exercise.ipynb\" target=\"_parent\"><img src=\"https://colab.research.google.com/assets/colab-badge.svg\" alt=\"Open In Colab\"/></a>"
      ]
    },
    {
      "cell_type": "code",
      "execution_count": 1,
      "metadata": {
        "colab": {
          "base_uri": "https://localhost:8080/"
        },
        "id": "4T_4iJhd494B",
        "outputId": "4912528c-e192-4a9a-cf5f-4a2d38d0366a"
      },
      "outputs": [
        {
          "output_type": "stream",
          "name": "stdout",
          "text": [
            "['n', 'o', 'i', 's', 'a', 'c', 'o', 'r', 'e', 'i', 'v', 'a', 'x', 'o', 'r', 'd', 'n', 'a', 's', 's', 'e', 'l', 'a']\n"
          ]
        }
      ],
      "source": [
        "name = [\"a\",\"l\",\"e\",\"s\",\"s\",\"a\",\"n\",\"d\",\"r\",\"o\",\"x\",\"a\",\"v\",\"i\",\"e\",\"r\",\"o\",\"c\",\"a\",\"s\",\"i\",\"o\",\"n\"]\n",
        "name.reverse()\n",
        "print(name)"
      ]
    }
  ]
}