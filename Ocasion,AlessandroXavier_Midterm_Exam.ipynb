{
  "nbformat": 4,
  "nbformat_minor": 0,
  "metadata": {
    "colab": {
      "provenance": [],
      "authorship_tag": "ABX9TyPcvkipsiedBzM8dPV2xBws",
      "include_colab_link": true
    },
    "kernelspec": {
      "name": "python3",
      "display_name": "Python 3"
    },
    "language_info": {
      "name": "python"
    }
  },
  "cells": [
    {
      "cell_type": "markdown",
      "metadata": {
        "id": "view-in-github",
        "colab_type": "text"
      },
      "source": [
        "<a href=\"https://colab.research.google.com/github/AlessandroXavierOcasion/CPEN65-1/blob/main/Ocasion%2CAlessandroXavier_Midterm_Exam.ipynb\" target=\"_parent\"><img src=\"https://colab.research.google.com/assets/colab-badge.svg\" alt=\"Open In Colab\"/></a>"
      ]
    },
    {
      "cell_type": "markdown",
      "source": [
        "1. Write a Python program to create an array of 10 integers and display the array items. Access individual elements through indexes and compute for the sum"
      ],
      "metadata": {
        "id": "hI7GL0QvI-FL"
      }
    },
    {
      "cell_type": "code",
      "execution_count": 2,
      "metadata": {
        "colab": {
          "base_uri": "https://localhost:8080/"
        },
        "id": "3lu_aNsKF2RJ",
        "outputId": "ddc7eab1-ac2d-439f-dfc4-1f37a530f7f4"
      },
      "outputs": [
        {
          "output_type": "stream",
          "name": "stdout",
          "text": [
            "array('i', [1, 2, 3, 4, 5, 6, 7, 8, 9, 0])\n",
            "Check an Index: 2\n",
            "3\n",
            "45\n"
          ]
        }
      ],
      "source": [
        "import array as arr\n",
        "arr = arr.array('i',[1, 2, 3, 4, 5, 6, 7, 8, 9, 0])\n",
        "print(arr)\n",
        "\n",
        "index = int(input(\"Check an Index: \"))\n",
        "print(arr[index])\n",
        "current = 0\n",
        "\n",
        "for x in arr:\n",
        "  sum = current + arr[x]\n",
        "  current = sum\n",
        "print(sum)"
      ]
    },
    {
      "cell_type": "markdown",
      "source": [
        "2. Write a Python program to append a new item to the end of the array. Original\n",
        "array: numbers = [1, 2, 3, 4, 5, 6, 7, 8, 9, 10]"
      ],
      "metadata": {
        "id": "n-Dk81b4Jog6"
      }
    },
    {
      "cell_type": "code",
      "source": [
        "import array as arr\n",
        "numbers = arr.array('i',[1, 2, 3, 4, 5, 6, 7, 8, 9, 10])\n",
        "\n",
        "a = numbers.insert(11,0)\n",
        "print(numbers)"
      ],
      "metadata": {
        "colab": {
          "base_uri": "https://localhost:8080/"
        },
        "id": "9o7JgkWwJsrd",
        "outputId": "4e84eb3d-b054-4acd-c167-cac41b53042a"
      },
      "execution_count": 3,
      "outputs": [
        {
          "output_type": "stream",
          "name": "stdout",
          "text": [
            "array('i', [1, 2, 3, 4, 5, 6, 7, 8, 9, 10, 0])\n"
          ]
        }
      ]
    },
    {
      "cell_type": "markdown",
      "source": [
        "3. Write a Python program to insert a new item before the last element in an\n",
        "existing array. Original array: numbers = [1, 2, 3, 4, 5, 6, 7, 8, 9, 10]"
      ],
      "metadata": {
        "id": "KULEao6VJwQd"
      }
    },
    {
      "cell_type": "code",
      "source": [
        "import array as arr\n",
        "numbers = arr.array('i',[1, 2, 3, 4, 5, 6, 7, 8, 9, 10])\n",
        "\n",
        "a = numbers.insert(1,0)\n",
        "print(numbers)"
      ],
      "metadata": {
        "colab": {
          "base_uri": "https://localhost:8080/"
        },
        "id": "TJjwEqtJJywt",
        "outputId": "c82e1e58-2a84-4675-9279-abe4fd62ea5b"
      },
      "execution_count": 4,
      "outputs": [
        {
          "output_type": "stream",
          "name": "stdout",
          "text": [
            "array('i', [1, 0, 2, 3, 4, 5, 6, 7, 8, 9, 10])\n"
          ]
        }
      ]
    },
    {
      "cell_type": "markdown",
      "source": [
        "4.Write a Python program to reverse the order of the items in the array. Original array: numbers = [5, 4, 3, 2, 1]"
      ],
      "metadata": {
        "id": "0RRLqfujJ11m"
      }
    },
    {
      "cell_type": "code",
      "source": [
        "from array import *\n",
        "array_num = array('i', [5,4,3,2,1])\n",
        "array_num.reverse()\n",
        "\n",
        "print(array_num)\n"
      ],
      "metadata": {
        "colab": {
          "base_uri": "https://localhost:8080/"
        },
        "id": "sfA_H2Q6J1hE",
        "outputId": "0f5cd650-95f1-448d-a786-c7ed97ef4406"
      },
      "execution_count": 6,
      "outputs": [
        {
          "output_type": "stream",
          "name": "stdout",
          "text": [
            "array('i', [1, 2, 3, 4, 5])\n"
          ]
        }
      ]
    },
    {
      "cell_type": "markdown",
      "source": [
        "5. Let A be an array of size n ≥ 2 containing integers from 1 to n−1, inclusive, with exactly one repeated. Create an algorithm for finding the integer in A that is repeated."
      ],
      "metadata": {
        "id": "YMd0FznuJ6KB"
      }
    },
    {
      "cell_type": "code",
      "source": [
        "A = [1, 2, 3 ,4 ,5, 6, 7, 7] #array size of 8\n",
        "N = len(A)\n",
        "\n",
        "def repeated(A,N):\n",
        "  A.sort()\n",
        "  for i in range(1,N):\n",
        "    if(A[i] != i+1):\n",
        "      return A[i]\n",
        "\n",
        "print(repeated(A,N))"
      ],
      "metadata": {
        "colab": {
          "base_uri": "https://localhost:8080/"
        },
        "id": "hNwWE4GRJ_Fu",
        "outputId": "03042659-619d-4c92-8208-1d00ed3d02e4"
      },
      "execution_count": 7,
      "outputs": [
        {
          "output_type": "stream",
          "name": "stdout",
          "text": [
            "7\n"
          ]
        }
      ]
    }
  ]
}